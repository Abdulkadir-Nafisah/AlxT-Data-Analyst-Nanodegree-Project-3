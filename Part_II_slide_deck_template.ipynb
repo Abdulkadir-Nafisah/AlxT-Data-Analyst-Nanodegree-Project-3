{
 "cells": [
  {
   "cell_type": "markdown",
   "metadata": {
    "id": "EQWcMdH6H47b",
    "slideshow": {
     "slide_type": "slide"
    }
   },
   "source": [
    "# Part II - (Ford GoBike System Data)\n",
    "## by (Abdulkadir Nafisat)"
   ]
  },
  {
   "cell_type": "markdown",
   "metadata": {
    "id": "wpKx_-4UH47h",
    "slideshow": {
     "slide_type": "subslide"
    }
   },
   "source": [
    "## Investigation Overview\n",
    "\n",
    "> The aim of this investigation is to look deeper into the relationship between bike share and duration with other variables in the dataset.\n",
    "\n",
    "\n",
    "## Dataset Overview\n",
    "\n",
    "> The dataset been loaded is the cleaned version of the ford gobike dataset which was used in the first part of this work. it contains no null values and the right datatypes with 174952 columns and 12 variables."
   ]
  },
  {
   "cell_type": "code",
   "execution_count": 1,
   "metadata": {
    "executionInfo": {
     "elapsed": 1623,
     "status": "ok",
     "timestamp": 1669923044916,
     "user": {
      "displayName": "Nafisah Abdulkadir",
      "userId": "01499253231134480702"
     },
     "user_tz": -60
    },
    "id": "yfm8cEOiH47o",
    "slideshow": {
     "slide_type": "subslide"
    }
   },
   "outputs": [],
   "source": [
    "# import all packages and set plots to be embedded inline\n",
    "import numpy as np\n",
    "import pandas as pd\n",
    "import matplotlib.pyplot as plt\n",
    "import seaborn as sb\n",
    "\n",
    "%matplotlib inline\n",
    "\n",
    "# suppress warnings from final output\n",
    "import warnings\n",
    "warnings.simplefilter(\"ignore\")"
   ]
  },
  {
   "cell_type": "code",
   "execution_count": 2,
   "metadata": {
    "colab": {
     "base_uri": "https://localhost:8080/"
    },
    "executionInfo": {
     "elapsed": 1745,
     "status": "ok",
     "timestamp": 1669923058816,
     "user": {
      "displayName": "Nafisah Abdulkadir",
      "userId": "01499253231134480702"
     },
     "user_tz": -60
    },
    "id": "GPTmQ04BH47t",
    "outputId": "78eefc51-dd54-4bfd-90a9-3498f8326017",
    "slideshow": {
     "slide_type": "subslide"
    }
   },
   "outputs": [
    {
     "name": "stdout",
     "output_type": "stream",
     "text": [
      "<class 'pandas.core.frame.DataFrame'>\n",
      "RangeIndex: 174952 entries, 0 to 174951\n",
      "Data columns (total 11 columns):\n",
      " #   Column                   Non-Null Count   Dtype \n",
      "---  ------                   --------------   ----- \n",
      " 0   Unnamed: 0               174952 non-null  int64 \n",
      " 1   duration_sec             174952 non-null  int64 \n",
      " 2   start_time               174952 non-null  object\n",
      " 3   end_time                 174952 non-null  object\n",
      " 4   start_station_name       174952 non-null  object\n",
      " 5   end_station_name         174952 non-null  object\n",
      " 6   bike_id                  174952 non-null  int64 \n",
      " 7   user_type                174952 non-null  object\n",
      " 8   member_birth_year        174952 non-null  int64 \n",
      " 9   member_gender            174952 non-null  object\n",
      " 10  bike_share_for_all_trip  174952 non-null  object\n",
      "dtypes: int64(4), object(7)\n",
      "memory usage: 14.7+ MB\n"
     ]
    }
   ],
   "source": [
    "# load in the dataset into a pandas dataframe\n",
    "data = pd.read_csv('Project3_clean.csv')\n",
    "data.info()"
   ]
  },
  {
   "cell_type": "code",
   "execution_count": 3,
   "metadata": {
    "colab": {
     "base_uri": "https://localhost:8080/",
     "height": 409
    },
    "executionInfo": {
     "elapsed": 1077,
     "status": "ok",
     "timestamp": 1669923077480,
     "user": {
      "displayName": "Nafisah Abdulkadir",
      "userId": "01499253231134480702"
     },
     "user_tz": -60
    },
    "id": "0-t5hDbQH47w",
    "outputId": "24b1970f-ca9e-42b9-bca1-088fcebcc717",
    "slideshow": {
     "slide_type": "subslide"
    }
   },
   "outputs": [
    {
     "data": {
      "text/html": [
       "<div>\n",
       "<style scoped>\n",
       "    .dataframe tbody tr th:only-of-type {\n",
       "        vertical-align: middle;\n",
       "    }\n",
       "\n",
       "    .dataframe tbody tr th {\n",
       "        vertical-align: top;\n",
       "    }\n",
       "\n",
       "    .dataframe thead th {\n",
       "        text-align: right;\n",
       "    }\n",
       "</style>\n",
       "<table border=\"1\" class=\"dataframe\">\n",
       "  <thead>\n",
       "    <tr style=\"text-align: right;\">\n",
       "      <th></th>\n",
       "      <th>Unnamed: 0</th>\n",
       "      <th>duration_sec</th>\n",
       "      <th>start_time</th>\n",
       "      <th>end_time</th>\n",
       "      <th>start_station_name</th>\n",
       "      <th>end_station_name</th>\n",
       "      <th>bike_id</th>\n",
       "      <th>user_type</th>\n",
       "      <th>member_birth_year</th>\n",
       "      <th>member_gender</th>\n",
       "      <th>bike_share_for_all_trip</th>\n",
       "    </tr>\n",
       "  </thead>\n",
       "  <tbody>\n",
       "    <tr>\n",
       "      <th>0</th>\n",
       "      <td>0</td>\n",
       "      <td>52185</td>\n",
       "      <td>2019-02-28 17:32:10.145</td>\n",
       "      <td>2019-03-01 08:01:55.975</td>\n",
       "      <td>Montgomery St BART Station (Market St at 2nd St)</td>\n",
       "      <td>Commercial St at Montgomery St</td>\n",
       "      <td>4902</td>\n",
       "      <td>Customer</td>\n",
       "      <td>1984</td>\n",
       "      <td>Male</td>\n",
       "      <td>No</td>\n",
       "    </tr>\n",
       "    <tr>\n",
       "      <th>1</th>\n",
       "      <td>2</td>\n",
       "      <td>61854</td>\n",
       "      <td>2019-02-28 12:13:13.218</td>\n",
       "      <td>2019-03-01 05:24:08.146</td>\n",
       "      <td>Market St at Dolores St</td>\n",
       "      <td>Powell St BART Station (Market St at 4th St)</td>\n",
       "      <td>5905</td>\n",
       "      <td>Customer</td>\n",
       "      <td>1972</td>\n",
       "      <td>Male</td>\n",
       "      <td>No</td>\n",
       "    </tr>\n",
       "    <tr>\n",
       "      <th>2</th>\n",
       "      <td>3</td>\n",
       "      <td>36490</td>\n",
       "      <td>2019-02-28 17:54:26.010</td>\n",
       "      <td>2019-03-01 04:02:36.842</td>\n",
       "      <td>Grove St at Masonic Ave</td>\n",
       "      <td>Central Ave at Fell St</td>\n",
       "      <td>6638</td>\n",
       "      <td>Subscriber</td>\n",
       "      <td>1989</td>\n",
       "      <td>Other</td>\n",
       "      <td>No</td>\n",
       "    </tr>\n",
       "    <tr>\n",
       "      <th>3</th>\n",
       "      <td>4</td>\n",
       "      <td>1585</td>\n",
       "      <td>2019-02-28 23:54:18.549</td>\n",
       "      <td>2019-03-01 00:20:44.074</td>\n",
       "      <td>Frank H Ogawa Plaza</td>\n",
       "      <td>10th Ave at E 15th St</td>\n",
       "      <td>4898</td>\n",
       "      <td>Subscriber</td>\n",
       "      <td>1974</td>\n",
       "      <td>Male</td>\n",
       "      <td>Yes</td>\n",
       "    </tr>\n",
       "    <tr>\n",
       "      <th>4</th>\n",
       "      <td>5</td>\n",
       "      <td>1793</td>\n",
       "      <td>2019-02-28 23:49:58.632</td>\n",
       "      <td>2019-03-01 00:19:51.760</td>\n",
       "      <td>4th St at Mission Bay Blvd S</td>\n",
       "      <td>Broadway at Kearny</td>\n",
       "      <td>5200</td>\n",
       "      <td>Subscriber</td>\n",
       "      <td>1959</td>\n",
       "      <td>Male</td>\n",
       "      <td>No</td>\n",
       "    </tr>\n",
       "  </tbody>\n",
       "</table>\n",
       "</div>"
      ],
      "text/plain": [
       "   Unnamed: 0  duration_sec               start_time                 end_time  \\\n",
       "0           0         52185  2019-02-28 17:32:10.145  2019-03-01 08:01:55.975   \n",
       "1           2         61854  2019-02-28 12:13:13.218  2019-03-01 05:24:08.146   \n",
       "2           3         36490  2019-02-28 17:54:26.010  2019-03-01 04:02:36.842   \n",
       "3           4          1585  2019-02-28 23:54:18.549  2019-03-01 00:20:44.074   \n",
       "4           5          1793  2019-02-28 23:49:58.632  2019-03-01 00:19:51.760   \n",
       "\n",
       "                                 start_station_name  \\\n",
       "0  Montgomery St BART Station (Market St at 2nd St)   \n",
       "1                           Market St at Dolores St   \n",
       "2                           Grove St at Masonic Ave   \n",
       "3                               Frank H Ogawa Plaza   \n",
       "4                      4th St at Mission Bay Blvd S   \n",
       "\n",
       "                               end_station_name  bike_id   user_type  \\\n",
       "0                Commercial St at Montgomery St     4902    Customer   \n",
       "1  Powell St BART Station (Market St at 4th St)     5905    Customer   \n",
       "2                        Central Ave at Fell St     6638  Subscriber   \n",
       "3                         10th Ave at E 15th St     4898  Subscriber   \n",
       "4                            Broadway at Kearny     5200  Subscriber   \n",
       "\n",
       "   member_birth_year member_gender bike_share_for_all_trip  \n",
       "0               1984          Male                      No  \n",
       "1               1972          Male                      No  \n",
       "2               1989         Other                      No  \n",
       "3               1974          Male                     Yes  \n",
       "4               1959          Male                      No  "
      ]
     },
     "execution_count": 3,
     "metadata": {},
     "output_type": "execute_result"
    }
   ],
   "source": [
    "data.head()"
   ]
  },
  {
   "cell_type": "markdown",
   "metadata": {
    "id": "vW1WbNphH47z",
    "slideshow": {
     "slide_type": "slide"
    }
   },
   "source": [
    "## (Visualization 1)\n",
    "\n",
    "> We Check to see the bike Id with the most Duration and go further to visualize the top ten of them. \n",
    "\n",
    "> From this visualization Results showed that the bike id with the highest duration was bike id '6301' who is a subscriber user type .\n"
   ]
  },
  {
   "cell_type": "code",
   "execution_count": 4,
   "metadata": {
    "slideshow": {
     "slide_type": "slide"
    }
   },
   "outputs": [
    {
     "data": {
      "text/html": [
       "<div>\n",
       "<style scoped>\n",
       "    .dataframe tbody tr th:only-of-type {\n",
       "        vertical-align: middle;\n",
       "    }\n",
       "\n",
       "    .dataframe tbody tr th {\n",
       "        vertical-align: top;\n",
       "    }\n",
       "\n",
       "    .dataframe thead th {\n",
       "        text-align: right;\n",
       "    }\n",
       "</style>\n",
       "<table border=\"1\" class=\"dataframe\">\n",
       "  <thead>\n",
       "    <tr style=\"text-align: right;\">\n",
       "      <th></th>\n",
       "      <th>Unnamed: 0</th>\n",
       "      <th>duration_sec</th>\n",
       "      <th>start_time</th>\n",
       "      <th>end_time</th>\n",
       "      <th>start_station_name</th>\n",
       "      <th>end_station_name</th>\n",
       "      <th>bike_id</th>\n",
       "      <th>user_type</th>\n",
       "      <th>member_birth_year</th>\n",
       "      <th>member_gender</th>\n",
       "      <th>bike_share_for_all_trip</th>\n",
       "    </tr>\n",
       "  </thead>\n",
       "  <tbody>\n",
       "    <tr>\n",
       "      <th>81604</th>\n",
       "      <td>85465</td>\n",
       "      <td>84548</td>\n",
       "      <td>2019-02-16 15:48:25.029</td>\n",
       "      <td>2019-02-17 15:17:33.080</td>\n",
       "      <td>Powell St BART Station (Market St at 4th St)</td>\n",
       "      <td>Myrtle St at Polk St</td>\n",
       "      <td>6301</td>\n",
       "      <td>Subscriber</td>\n",
       "      <td>1981</td>\n",
       "      <td>Male</td>\n",
       "      <td>No</td>\n",
       "    </tr>\n",
       "    <tr>\n",
       "      <th>122163</th>\n",
       "      <td>127999</td>\n",
       "      <td>83519</td>\n",
       "      <td>2019-02-09 15:16:17.537</td>\n",
       "      <td>2019-02-10 14:28:17.270</td>\n",
       "      <td>Page St at Scott St</td>\n",
       "      <td>San Francisco Public Library (Grove St at Hyde...</td>\n",
       "      <td>5561</td>\n",
       "      <td>Customer</td>\n",
       "      <td>1990</td>\n",
       "      <td>Male</td>\n",
       "      <td>No</td>\n",
       "    </tr>\n",
       "    <tr>\n",
       "      <th>107291</th>\n",
       "      <td>112435</td>\n",
       "      <td>83407</td>\n",
       "      <td>2019-02-11 16:25:33.069</td>\n",
       "      <td>2019-02-12 15:35:40.956</td>\n",
       "      <td>11th St at Natoma St</td>\n",
       "      <td>16th St Depot</td>\n",
       "      <td>1842</td>\n",
       "      <td>Customer</td>\n",
       "      <td>1988</td>\n",
       "      <td>Male</td>\n",
       "      <td>No</td>\n",
       "    </tr>\n",
       "    <tr>\n",
       "      <th>4987</th>\n",
       "      <td>5203</td>\n",
       "      <td>83195</td>\n",
       "      <td>2019-02-27 14:47:23.181</td>\n",
       "      <td>2019-02-28 13:53:58.433</td>\n",
       "      <td>Bancroft Way at College Ave</td>\n",
       "      <td>Telegraph Ave at Ashby Ave</td>\n",
       "      <td>5781</td>\n",
       "      <td>Subscriber</td>\n",
       "      <td>1962</td>\n",
       "      <td>Female</td>\n",
       "      <td>Yes</td>\n",
       "    </tr>\n",
       "    <tr>\n",
       "      <th>91253</th>\n",
       "      <td>95750</td>\n",
       "      <td>82512</td>\n",
       "      <td>2019-02-14 13:56:21.728</td>\n",
       "      <td>2019-02-15 12:51:34.315</td>\n",
       "      <td>Myrtle St at Polk St</td>\n",
       "      <td>Civic Center/UN Plaza BART Station (Market St ...</td>\n",
       "      <td>6152</td>\n",
       "      <td>Customer</td>\n",
       "      <td>1998</td>\n",
       "      <td>Other</td>\n",
       "      <td>No</td>\n",
       "    </tr>\n",
       "    <tr>\n",
       "      <th>8291</th>\n",
       "      <td>8631</td>\n",
       "      <td>81549</td>\n",
       "      <td>2019-02-27 09:41:38.552</td>\n",
       "      <td>2019-02-28 08:20:48.386</td>\n",
       "      <td>Jersey St at Church St</td>\n",
       "      <td>Cesar Chavez St at Dolores St</td>\n",
       "      <td>2266</td>\n",
       "      <td>Subscriber</td>\n",
       "      <td>1963</td>\n",
       "      <td>Female</td>\n",
       "      <td>No</td>\n",
       "    </tr>\n",
       "    <tr>\n",
       "      <th>102616</th>\n",
       "      <td>107581</td>\n",
       "      <td>79548</td>\n",
       "      <td>2019-02-12 17:45:50.536</td>\n",
       "      <td>2019-02-13 15:51:38.859</td>\n",
       "      <td>7th St at Brannan St</td>\n",
       "      <td>3rd St at Townsend St</td>\n",
       "      <td>1718</td>\n",
       "      <td>Customer</td>\n",
       "      <td>1995</td>\n",
       "      <td>Female</td>\n",
       "      <td>No</td>\n",
       "    </tr>\n",
       "    <tr>\n",
       "      <th>85962</th>\n",
       "      <td>90195</td>\n",
       "      <td>74408</td>\n",
       "      <td>2019-02-15 16:54:01.060</td>\n",
       "      <td>2019-02-16 13:34:09.367</td>\n",
       "      <td>Powell St BART Station (Market St at 4th St)</td>\n",
       "      <td>Market St at Dolores St</td>\n",
       "      <td>4714</td>\n",
       "      <td>Subscriber</td>\n",
       "      <td>1988</td>\n",
       "      <td>Male</td>\n",
       "      <td>No</td>\n",
       "    </tr>\n",
       "    <tr>\n",
       "      <th>82496</th>\n",
       "      <td>86454</td>\n",
       "      <td>74097</td>\n",
       "      <td>2019-02-16 16:20:41.465</td>\n",
       "      <td>2019-02-17 12:55:38.467</td>\n",
       "      <td>Folsom St at 15th St</td>\n",
       "      <td>Garfield Square (25th St at Harrison St)</td>\n",
       "      <td>6235</td>\n",
       "      <td>Subscriber</td>\n",
       "      <td>1980</td>\n",
       "      <td>Male</td>\n",
       "      <td>No</td>\n",
       "    </tr>\n",
       "    <tr>\n",
       "      <th>117808</th>\n",
       "      <td>123383</td>\n",
       "      <td>73930</td>\n",
       "      <td>2019-02-10 13:03:36.404</td>\n",
       "      <td>2019-02-11 09:35:46.446</td>\n",
       "      <td>Ninth St at Heinz Ave</td>\n",
       "      <td>Ninth St at Heinz Ave</td>\n",
       "      <td>1333</td>\n",
       "      <td>Subscriber</td>\n",
       "      <td>1989</td>\n",
       "      <td>Female</td>\n",
       "      <td>No</td>\n",
       "    </tr>\n",
       "  </tbody>\n",
       "</table>\n",
       "</div>"
      ],
      "text/plain": [
       "        Unnamed: 0  duration_sec               start_time  \\\n",
       "81604        85465         84548  2019-02-16 15:48:25.029   \n",
       "122163      127999         83519  2019-02-09 15:16:17.537   \n",
       "107291      112435         83407  2019-02-11 16:25:33.069   \n",
       "4987          5203         83195  2019-02-27 14:47:23.181   \n",
       "91253        95750         82512  2019-02-14 13:56:21.728   \n",
       "8291          8631         81549  2019-02-27 09:41:38.552   \n",
       "102616      107581         79548  2019-02-12 17:45:50.536   \n",
       "85962        90195         74408  2019-02-15 16:54:01.060   \n",
       "82496        86454         74097  2019-02-16 16:20:41.465   \n",
       "117808      123383         73930  2019-02-10 13:03:36.404   \n",
       "\n",
       "                       end_time                            start_station_name  \\\n",
       "81604   2019-02-17 15:17:33.080  Powell St BART Station (Market St at 4th St)   \n",
       "122163  2019-02-10 14:28:17.270                           Page St at Scott St   \n",
       "107291  2019-02-12 15:35:40.956                          11th St at Natoma St   \n",
       "4987    2019-02-28 13:53:58.433                   Bancroft Way at College Ave   \n",
       "91253   2019-02-15 12:51:34.315                          Myrtle St at Polk St   \n",
       "8291    2019-02-28 08:20:48.386                        Jersey St at Church St   \n",
       "102616  2019-02-13 15:51:38.859                          7th St at Brannan St   \n",
       "85962   2019-02-16 13:34:09.367  Powell St BART Station (Market St at 4th St)   \n",
       "82496   2019-02-17 12:55:38.467                          Folsom St at 15th St   \n",
       "117808  2019-02-11 09:35:46.446                         Ninth St at Heinz Ave   \n",
       "\n",
       "                                         end_station_name  bike_id  \\\n",
       "81604                                Myrtle St at Polk St     6301   \n",
       "122163  San Francisco Public Library (Grove St at Hyde...     5561   \n",
       "107291                                      16th St Depot     1842   \n",
       "4987                           Telegraph Ave at Ashby Ave     5781   \n",
       "91253   Civic Center/UN Plaza BART Station (Market St ...     6152   \n",
       "8291                        Cesar Chavez St at Dolores St     2266   \n",
       "102616                              3rd St at Townsend St     1718   \n",
       "85962                             Market St at Dolores St     4714   \n",
       "82496            Garfield Square (25th St at Harrison St)     6235   \n",
       "117808                              Ninth St at Heinz Ave     1333   \n",
       "\n",
       "         user_type  member_birth_year member_gender bike_share_for_all_trip  \n",
       "81604   Subscriber               1981          Male                      No  \n",
       "122163    Customer               1990          Male                      No  \n",
       "107291    Customer               1988          Male                      No  \n",
       "4987    Subscriber               1962        Female                     Yes  \n",
       "91253     Customer               1998         Other                      No  \n",
       "8291    Subscriber               1963        Female                      No  \n",
       "102616    Customer               1995        Female                      No  \n",
       "85962   Subscriber               1988          Male                      No  \n",
       "82496   Subscriber               1980          Male                      No  \n",
       "117808  Subscriber               1989        Female                      No  "
      ]
     },
     "execution_count": 4,
     "metadata": {},
     "output_type": "execute_result"
    }
   ],
   "source": [
    "data.sort_values(by = \"duration_sec\", ascending=False ).head(10)"
   ]
  },
  {
   "cell_type": "code",
   "execution_count": 5,
   "metadata": {
    "colab": {
     "base_uri": "https://localhost:8080/",
     "height": 319
    },
    "executionInfo": {
     "elapsed": 1142,
     "status": "ok",
     "timestamp": 1669925166826,
     "user": {
      "displayName": "Nafisah Abdulkadir",
      "userId": "01499253231134480702"
     },
     "user_tz": -60
    },
    "id": "8UcZ3-QpH48I",
    "outputId": "c9c97cf4-fb5c-40ba-e159-3f407493067e",
    "slideshow": {
     "slide_type": "slide"
    }
   },
   "outputs": [
    {
     "data": {
      "image/png": "[encoded data removed]",
      "text/plain": [
       "<Figure size 432x288 with 1 Axes>"
      ]
     },
     "metadata": {
      "needs_background": "light"
     },
     "output_type": "display_data"
    }
   ],
   "source": [
    "ax = sb.barplot(\n",
    "    data.sort_values(by = \"duration_sec\", ascending=False ).head(10).duration_sec,\n",
    "     data.sort_values(by = \"duration_sec\", ascending=False).head(10).duration_sec,\n",
    "     hue=data['bike_share_for_all_trip'])\n",
    "\n",
    "#rotate x-axis' text\n",
    "for item in ax.get_xticklabels():\n",
    "    item.set_rotation(85)\n",
    "\n",
    "ax.set(xlabel='Total_count', ylabel='Duration Count', title = 'Top Ten highest duration Counts with Their Bike Share Status ')\n",
    "plt.show()"
   ]
  },
  {
   "cell_type": "markdown",
   "metadata": {
    "collapsed": true,
    "id": "CLfy44S4H48O",
    "slideshow": {
     "slide_type": "slide"
    }
   },
   "source": [
    "## (Visualization 2)\n",
    "\n",
    "> For the Second visualization we check for the Distribution of count of bike rides per user_type across the Various Gender\n",
    "\n",
    "> From the visualization we can see that the Male Subscribers Tend to go on longer Trips the most"
   ]
  },
  {
   "cell_type": "code",
   "execution_count": 6,
   "metadata": {
    "colab": {
     "base_uri": "https://localhost:8080/",
     "height": 466
    },
    "executionInfo": {
     "elapsed": 2105,
     "status": "ok",
     "timestamp": 1669925204041,
     "user": {
      "displayName": "Nafisah Abdulkadir",
      "userId": "01499253231134480702"
     },
     "user_tz": -60
    },
    "id": "RKAGHGxjH48P",
    "outputId": "f97b05c8-fa70-4a17-e66d-8543fc1671bb",
    "slideshow": {
     "slide_type": "subslide"
    }
   },
   "outputs": [
    {
     "data": {
      "image/png": "[encoded data removed]",
      "text/plain": [
       "<Figure size 504x504 with 1 Axes>"
      ]
     },
     "metadata": {
      "needs_background": "light"
     },
     "output_type": "display_data"
    }
   ],
   "source": [
    "plt.figure(figsize=(7,7))\n",
    "\n",
    "\n",
    "sb.countplot(data=data, x='user_type', hue='member_gender', color='red')\n",
    "plt.xlabel('User_type', fontsize=14)\n",
    "plt.ylabel('Count of rides', fontsize=14)\n",
    "plt.title('Distribution of count of bike rides per user_type across the Various Gender', fontsize=18);"
   ]
  },
  {
   "cell_type": "markdown",
   "metadata": {
    "id": "TyoLPyi9H48S",
    "slideshow": {
     "slide_type": "slide"
    }
   },
   "source": [
    "## (Visualization 3)\n",
    "\n",
    "> For the Second Visualization, we check to see Member Birth Year distribution and time spent on Rideshare.\n",
    "\n",
    "> The Scatterred plot showed that users born in later years were more likely to no share bikes also, they spend longer duration on Trips.  "
   ]
  },
  {
   "cell_type": "code",
   "execution_count": 7,
   "metadata": {
    "colab": {
     "base_uri": "https://localhost:8080/",
     "height": 547
    },
    "executionInfo": {
     "elapsed": 3710,
     "status": "ok",
     "timestamp": 1669925240319,
     "user": {
      "displayName": "Nafisah Abdulkadir",
      "userId": "01499253231134480702"
     },
     "user_tz": -60
    },
    "id": "pl10VFxuH48T",
    "outputId": "4c7b3361-b0f1-4103-99aa-5481392e6815",
    "scrolled": false,
    "slideshow": {
     "slide_type": "subslide"
    }
   },
   "outputs": [
    {
     "data": {
      "text/plain": [
       "Text(0.5, 1.0, 'facetgrid of Member Birth Year distribution and time spent on Rideshare')"
      ]
     },
     "execution_count": 7,
     "metadata": {},
     "output_type": "execute_result"
    },
    {
     "data": {
      "image/png": "[encoded data removed]",
      "text/plain": [
       "<Figure size 623.125x504 with 1 Axes>"
      ]
     },
     "metadata": {
      "needs_background": "light"
     },
     "output_type": "display_data"
    }
   ],
   "source": [
    "type_colors = {'No': '#ee99ac', 'Yes': '#7038f8'}\n",
    "g = sb.FacetGrid(data = data, hue = 'bike_share_for_all_trip', height = 7, palette= type_colors)\n",
    "g.map(plt.scatter, 'duration_sec', 'member_birth_year')\n",
    "g.add_legend()\n",
    "plt.title('facetgrid of Member Birth Year distribution and time spent on Rideshare')"
   ]
  },
  {
   "cell_type": "code",
   "execution_count": 8,
   "metadata": {
    "slideshow": {
     "slide_type": "subslide"
    }
   },
   "outputs": [
    {
     "data": {
      "text/html": [
       "<div>\n",
       "<style scoped>\n",
       "    .dataframe tbody tr th:only-of-type {\n",
       "        vertical-align: middle;\n",
       "    }\n",
       "\n",
       "    .dataframe tbody tr th {\n",
       "        vertical-align: top;\n",
       "    }\n",
       "\n",
       "    .dataframe thead th {\n",
       "        text-align: right;\n",
       "    }\n",
       "</style>\n",
       "<table border=\"1\" class=\"dataframe\">\n",
       "  <thead>\n",
       "    <tr style=\"text-align: right;\">\n",
       "      <th></th>\n",
       "      <th>Unnamed: 0</th>\n",
       "      <th>duration_sec</th>\n",
       "      <th>start_time</th>\n",
       "      <th>end_time</th>\n",
       "      <th>start_station_name</th>\n",
       "      <th>end_station_name</th>\n",
       "      <th>bike_id</th>\n",
       "      <th>user_type</th>\n",
       "      <th>member_birth_year</th>\n",
       "      <th>member_gender</th>\n",
       "      <th>bike_share_for_all_trip</th>\n",
       "    </tr>\n",
       "  </thead>\n",
       "  <tbody>\n",
       "    <tr>\n",
       "      <th>35</th>\n",
       "      <td>38</td>\n",
       "      <td>1066</td>\n",
       "      <td>2019-02-28 23:31:16.139</td>\n",
       "      <td>2019-02-28 23:49:02.792</td>\n",
       "      <td>Market St at 10th St</td>\n",
       "      <td>29th St at Church St</td>\n",
       "      <td>5938</td>\n",
       "      <td>Subscriber</td>\n",
       "      <td>1992</td>\n",
       "      <td>Female</td>\n",
       "      <td>No</td>\n",
       "    </tr>\n",
       "    <tr>\n",
       "      <th>50</th>\n",
       "      <td>54</td>\n",
       "      <td>401</td>\n",
       "      <td>2019-02-28 23:30:52.471</td>\n",
       "      <td>2019-02-28 23:37:33.955</td>\n",
       "      <td>Market St at 10th St</td>\n",
       "      <td>Victoria Manalo Draves Park</td>\n",
       "      <td>5407</td>\n",
       "      <td>Subscriber</td>\n",
       "      <td>1990</td>\n",
       "      <td>Female</td>\n",
       "      <td>No</td>\n",
       "    </tr>\n",
       "    <tr>\n",
       "      <th>105</th>\n",
       "      <td>110</td>\n",
       "      <td>371</td>\n",
       "      <td>2019-02-28 23:01:15.077</td>\n",
       "      <td>2019-02-28 23:07:26.459</td>\n",
       "      <td>Market St at 10th St</td>\n",
       "      <td>Valencia St at 16th St</td>\n",
       "      <td>6435</td>\n",
       "      <td>Subscriber</td>\n",
       "      <td>1994</td>\n",
       "      <td>Male</td>\n",
       "      <td>No</td>\n",
       "    </tr>\n",
       "    <tr>\n",
       "      <th>109</th>\n",
       "      <td>114</td>\n",
       "      <td>376</td>\n",
       "      <td>2019-02-28 23:00:05.223</td>\n",
       "      <td>2019-02-28 23:06:21.515</td>\n",
       "      <td>Market St at 10th St</td>\n",
       "      <td>Montgomery St BART Station (Market St at 2nd St)</td>\n",
       "      <td>5731</td>\n",
       "      <td>Subscriber</td>\n",
       "      <td>1982</td>\n",
       "      <td>Male</td>\n",
       "      <td>No</td>\n",
       "    </tr>\n",
       "    <tr>\n",
       "      <th>183</th>\n",
       "      <td>190</td>\n",
       "      <td>515</td>\n",
       "      <td>2019-02-28 22:28:11.347</td>\n",
       "      <td>2019-02-28 22:36:46.389</td>\n",
       "      <td>Market St at 10th St</td>\n",
       "      <td>5th St at Folsom</td>\n",
       "      <td>5234</td>\n",
       "      <td>Subscriber</td>\n",
       "      <td>1981</td>\n",
       "      <td>Other</td>\n",
       "      <td>No</td>\n",
       "    </tr>\n",
       "    <tr>\n",
       "      <th>...</th>\n",
       "      <td>...</td>\n",
       "      <td>...</td>\n",
       "      <td>...</td>\n",
       "      <td>...</td>\n",
       "      <td>...</td>\n",
       "      <td>...</td>\n",
       "      <td>...</td>\n",
       "      <td>...</td>\n",
       "      <td>...</td>\n",
       "      <td>...</td>\n",
       "      <td>...</td>\n",
       "    </tr>\n",
       "    <tr>\n",
       "      <th>174841</th>\n",
       "      <td>183293</td>\n",
       "      <td>477</td>\n",
       "      <td>2019-02-01 05:26:32.609</td>\n",
       "      <td>2019-02-01 05:34:30.132</td>\n",
       "      <td>Market St at 10th St</td>\n",
       "      <td>Irwin St at 8th St</td>\n",
       "      <td>4369</td>\n",
       "      <td>Subscriber</td>\n",
       "      <td>1971</td>\n",
       "      <td>Male</td>\n",
       "      <td>No</td>\n",
       "    </tr>\n",
       "    <tr>\n",
       "      <th>174905</th>\n",
       "      <td>183362</td>\n",
       "      <td>899</td>\n",
       "      <td>2019-02-01 01:08:39.015</td>\n",
       "      <td>2019-02-01 01:23:38.798</td>\n",
       "      <td>Market St at 10th St</td>\n",
       "      <td>Valencia St at 22nd St</td>\n",
       "      <td>2033</td>\n",
       "      <td>Subscriber</td>\n",
       "      <td>1999</td>\n",
       "      <td>Male</td>\n",
       "      <td>No</td>\n",
       "    </tr>\n",
       "    <tr>\n",
       "      <th>174906</th>\n",
       "      <td>183364</td>\n",
       "      <td>892</td>\n",
       "      <td>2019-02-01 01:08:43.731</td>\n",
       "      <td>2019-02-01 01:23:35.763</td>\n",
       "      <td>Market St at 10th St</td>\n",
       "      <td>Valencia St at 22nd St</td>\n",
       "      <td>3392</td>\n",
       "      <td>Subscriber</td>\n",
       "      <td>2000</td>\n",
       "      <td>Male</td>\n",
       "      <td>No</td>\n",
       "    </tr>\n",
       "    <tr>\n",
       "      <th>174907</th>\n",
       "      <td>183365</td>\n",
       "      <td>932</td>\n",
       "      <td>2019-02-01 01:07:51.908</td>\n",
       "      <td>2019-02-01 01:23:24.370</td>\n",
       "      <td>Market St at 10th St</td>\n",
       "      <td>Valencia St at 22nd St</td>\n",
       "      <td>4962</td>\n",
       "      <td>Subscriber</td>\n",
       "      <td>2000</td>\n",
       "      <td>Female</td>\n",
       "      <td>No</td>\n",
       "    </tr>\n",
       "    <tr>\n",
       "      <th>174908</th>\n",
       "      <td>183366</td>\n",
       "      <td>932</td>\n",
       "      <td>2019-02-01 01:07:49.971</td>\n",
       "      <td>2019-02-01 01:23:22.528</td>\n",
       "      <td>Market St at 10th St</td>\n",
       "      <td>Valencia St at 22nd St</td>\n",
       "      <td>5382</td>\n",
       "      <td>Subscriber</td>\n",
       "      <td>2000</td>\n",
       "      <td>Female</td>\n",
       "      <td>No</td>\n",
       "    </tr>\n",
       "  </tbody>\n",
       "</table>\n",
       "<p>3649 rows × 11 columns</p>\n",
       "</div>"
      ],
      "text/plain": [
       "        Unnamed: 0  duration_sec               start_time  \\\n",
       "35              38          1066  2019-02-28 23:31:16.139   \n",
       "50              54           401  2019-02-28 23:30:52.471   \n",
       "105            110           371  2019-02-28 23:01:15.077   \n",
       "109            114           376  2019-02-28 23:00:05.223   \n",
       "183            190           515  2019-02-28 22:28:11.347   \n",
       "...            ...           ...                      ...   \n",
       "174841      183293           477  2019-02-01 05:26:32.609   \n",
       "174905      183362           899  2019-02-01 01:08:39.015   \n",
       "174906      183364           892  2019-02-01 01:08:43.731   \n",
       "174907      183365           932  2019-02-01 01:07:51.908   \n",
       "174908      183366           932  2019-02-01 01:07:49.971   \n",
       "\n",
       "                       end_time    start_station_name  \\\n",
       "35      2019-02-28 23:49:02.792  Market St at 10th St   \n",
       "50      2019-02-28 23:37:33.955  Market St at 10th St   \n",
       "105     2019-02-28 23:07:26.459  Market St at 10th St   \n",
       "109     2019-02-28 23:06:21.515  Market St at 10th St   \n",
       "183     2019-02-28 22:36:46.389  Market St at 10th St   \n",
       "...                         ...                   ...   \n",
       "174841  2019-02-01 05:34:30.132  Market St at 10th St   \n",
       "174905  2019-02-01 01:23:38.798  Market St at 10th St   \n",
       "174906  2019-02-01 01:23:35.763  Market St at 10th St   \n",
       "174907  2019-02-01 01:23:24.370  Market St at 10th St   \n",
       "174908  2019-02-01 01:23:22.528  Market St at 10th St   \n",
       "\n",
       "                                        end_station_name  bike_id   user_type  \\\n",
       "35                                  29th St at Church St     5938  Subscriber   \n",
       "50                           Victoria Manalo Draves Park     5407  Subscriber   \n",
       "105                               Valencia St at 16th St     6435  Subscriber   \n",
       "109     Montgomery St BART Station (Market St at 2nd St)     5731  Subscriber   \n",
       "183                                     5th St at Folsom     5234  Subscriber   \n",
       "...                                                  ...      ...         ...   \n",
       "174841                                Irwin St at 8th St     4369  Subscriber   \n",
       "174905                            Valencia St at 22nd St     2033  Subscriber   \n",
       "174906                            Valencia St at 22nd St     3392  Subscriber   \n",
       "174907                            Valencia St at 22nd St     4962  Subscriber   \n",
       "174908                            Valencia St at 22nd St     5382  Subscriber   \n",
       "\n",
       "        member_birth_year member_gender bike_share_for_all_trip  \n",
       "35                   1992        Female                      No  \n",
       "50                   1990        Female                      No  \n",
       "105                  1994          Male                      No  \n",
       "109                  1982          Male                      No  \n",
       "183                  1981         Other                      No  \n",
       "...                   ...           ...                     ...  \n",
       "174841               1971          Male                      No  \n",
       "174905               1999          Male                      No  \n",
       "174906               2000          Male                      No  \n",
       "174907               2000        Female                      No  \n",
       "174908               2000        Female                      No  \n",
       "\n",
       "[3649 rows x 11 columns]"
      ]
     },
     "execution_count": 8,
     "metadata": {},
     "output_type": "execute_result"
    }
   ],
   "source": [
    "Top_station_list = ['Market St at 10th St', 'San Francisco Caltrain Station 2  (Townsend St at 4th St)', 'Berry St at 4th St',\n",
    "                   'Montgomery St BART Station (Market St at 2nd St)','Powell St BART Station (Market St at 4th St)','San Francisco Caltrain (Townsend St at 4th St)'\n",
    "                   'San Francisco Ferry Building (Harry Bridges Plaza)','Howard St at Beale St','Steuart St at Market St', 'Powell St BART Station (Market St at 5th St)']\n",
    "high_start_station = data[data['start_station_name'] == 'Market St at 10th St']\n",
    "high_start_station"
   ]
  },
  {
   "cell_type": "markdown",
   "metadata": {
    "id": "4AWoOBSBH48e",
    "slideshow": {
     "slide_type": "skip"
    }
   },
   "source": [
    ">**Generate Slideshow**: Once you're ready to generate your slideshow, use the `jupyter nbconvert` command to generate the HTML slide show. . From the terminal or command line, use the following expression."
   ]
  },
  {
   "cell_type": "code",
   "execution_count": 9,
   "metadata": {
    "colab": {
     "base_uri": "https://localhost:8080/"
    },
    "executionInfo": {
     "elapsed": 1844,
     "status": "ok",
     "timestamp": 1669925339553,
     "user": {
      "displayName": "Nafisah Abdulkadir",
      "userId": "01499253231134480702"
     },
     "user_tz": -60
    },
    "id": "XnQ3mAwLH48g",
    "outputId": "946a1a34-edc4-4fd7-ec6d-905ec1f89a06",
    "slideshow": {
     "slide_type": "skip"
    }
   },
   "outputs": [
    {
     "name": "stderr",
     "output_type": "stream",
     "text": [
      "[NbConvertApp] Converting notebook Part_II_slide_deck_template.ipynb to slides\n",
      "[NbConvertApp] Writing 682526 bytes to Part_II_slide_deck_template.slides.html\n",
      "[NbConvertApp] Redirecting reveal.js requests to https://cdnjs.cloudflare.com/ajax/libs/reveal.js/3.5.0\n",
      "Traceback (most recent call last):\n",
      "  File \"C:\\Users\\User PC\\miniconda3\\envs\\oyiza\\Scripts\\jupyter-nbconvert-script.py\", line 10, in <module>\n",
      "    sys.exit(main())\n",
      "  File \"C:\\Users\\User PC\\miniconda3\\envs\\oyiza\\lib\\site-packages\\jupyter_core\\application.py\", line 269, in launch_instance\n",
      "    return super().launch_instance(argv=argv, **kwargs)\n",
      "  File \"C:\\Users\\User PC\\miniconda3\\envs\\oyiza\\lib\\site-packages\\traitlets\\config\\application.py\", line 846, in launch_instance\n",
      "    app.start()\n",
      "  File \"C:\\Users\\User PC\\miniconda3\\envs\\oyiza\\lib\\site-packages\\nbconvert\\nbconvertapp.py\", line 369, in start\n",
      "    self.convert_notebooks()\n",
      "  File \"C:\\Users\\User PC\\miniconda3\\envs\\oyiza\\lib\\site-packages\\nbconvert\\nbconvertapp.py\", line 541, in convert_notebooks\n",
      "    self.convert_single_notebook(notebook_filename)\n",
      "  File \"C:\\Users\\User PC\\miniconda3\\envs\\oyiza\\lib\\site-packages\\nbconvert\\nbconvertapp.py\", line 508, in convert_single_notebook\n",
      "    self.postprocess_single_notebook(write_results)\n",
      "  File \"C:\\Users\\User PC\\miniconda3\\envs\\oyiza\\lib\\site-packages\\nbconvert\\nbconvertapp.py\", line 480, in postprocess_single_notebook\n",
      "    self.postprocessor(write_results)\n",
      "  File \"C:\\Users\\User PC\\miniconda3\\envs\\oyiza\\lib\\site-packages\\nbconvert\\postprocessors\\base.py\", line 28, in __call__\n",
      "    self.postprocess(input)\n",
      "  File \"C:\\Users\\User PC\\miniconda3\\envs\\oyiza\\lib\\site-packages\\nbconvert\\postprocessors\\serve.py\", line 90, in postprocess\n",
      "    http_server.listen(self.port, address=self.ip)\n",
      "  File \"C:\\Users\\User PC\\miniconda3\\envs\\oyiza\\lib\\site-packages\\tornado\\tcpserver.py\", line 151, in listen\n",
      "    sockets = bind_sockets(port, address=address)\n"
     ]
    }
   ],
   "source": [
    "#!jupyter nbconvert <Part_II_slide_deck_template.ipynb>.ipynb --to slides --post serve --no-input --no-prompt\n",
    "!jupyter nbconvert Part_II_slide_deck_template.ipynb --to slides --post serve  --no-input --no-prompt"
   ]
  },
  {
   "cell_type": "markdown",
   "metadata": {
    "id": "3qSpNbgTH48h",
    "slideshow": {
     "slide_type": "skip"
    }
   },
   "source": [
    "> This should open a tab in your web browser where you can scroll through your presentation. Sub-slides can be accessed by pressing 'down' when viewing its parent slide. Make sure you remove all of the quote-formatted guide notes like this one before you finish your presentation! At last, you can stop the Kernel. "
   ]
  },
  {
   "cell_type": "markdown",
   "metadata": {
    "id": "1W8cXM6xH48i",
    "slideshow": {
     "slide_type": "skip"
    }
   },
   "source": []
  },
  {
   "cell_type": "code",
   "execution_count": null,
   "metadata": {},
   "outputs": [],
   "source": []
  }
 ],
 "metadata": {
  "celltoolbar": "Slideshow",
  "colab": {
   "provenance": []
  },
  "kernelspec": {
   "display_name": "Python 3 (ipykernel)",
   "language": "python",
   "name": "python3"
  },
  "language_info": {
   "codemirror_mode": {
    "name": "ipython",
    "version": 3
   },
   "file_extension": ".py",
   "mimetype": "text/x-python",
   "name": "python",
   "nbconvert_exporter": "python",
   "pygments_lexer": "ipython3",
   "version": "3.9.12"
  }
 },
 "nbformat": 4,
 "nbformat_minor": 1
}
